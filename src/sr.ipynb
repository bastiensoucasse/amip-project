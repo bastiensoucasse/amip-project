{
 "cells": [
  {
   "attachments": {},
   "cell_type": "markdown",
   "metadata": {},
   "source": [
    "# Super Resolution"
   ]
  },
  {
   "attachments": {},
   "cell_type": "markdown",
   "metadata": {},
   "source": [
    "This code is the main interface to try out implementation of the super resolution."
   ]
  },
  {
   "cell_type": "code",
   "execution_count": null,
   "metadata": {},
   "outputs": [],
   "source": [
    "from train import sr_train\n",
    "\n",
    "# Set the parameters\n",
    "name = \"sr_x4_pF_e8_b32\"\n",
    "scaling_factor = 4\n",
    "use_pixel_loss = False\n",
    "num_epochs = 8\n",
    "batch_size = 32\n",
    "\n",
    "# Train the super resolution model\n",
    "sr_train(name, scaling_factor,\n",
    "         use_pixel_loss=use_pixel_loss\n",
    "         num_epochs=num_epochs,\n",
    "         batch_size=batch_size)"
   ]
  },
  {
   "cell_type": "code",
   "execution_count": null,
   "metadata": {},
   "outputs": [],
   "source": [
    "import matplotlib.pyplot as plt\n",
    "import torchvision.transforms as transforms\n",
    "\n",
    "\n",
    "def display_images(image1, image2):\n",
    "    \"\"\"Display a pair of image tensors side to side.\"\"\"\n",
    "\n",
    "    # Get the size of the two images\n",
    "    width1, height1 = image1.size\n",
    "    width2, height2 = image2.size\n",
    "\n",
    "    # Find the maximum size\n",
    "    width = max(width1, width2)\n",
    "    height = max(height1, height2)\n",
    "\n",
    "    # Create a figure with two subplots\n",
    "    fig, axs = plt.subplots(1, 2, figsize=(8, 4))\n",
    "\n",
    "    # Display the first image in the first subplot\n",
    "    axs[0].imshow(image1)\n",
    "    axs[0].axis('off')\n",
    "\n",
    "    # Display the second image in the second subplot\n",
    "    axs[1].imshow(image2)\n",
    "    axs[1].axis('off')\n",
    "\n",
    "    # Show the figure\n",
    "    plt.show()"
   ]
  },
  {
   "cell_type": "code",
   "execution_count": null,
   "metadata": {},
   "outputs": [],
   "source": [
    "from test import sr_test\n",
    "\n",
    "import numpy as np\n",
    "\n",
    "# Set the parameters\n",
    "name = \"sr_x4_e8_b32\"\n",
    "scaling_factor = 4\n",
    "input = \"data/IMG-20210103-WA0000.jpg\"\n",
    "\n",
    "# Test the super resolution model\n",
    "lr_img, gen_img = sr_test(name, scaling_factor, input)\n",
    "assert (np.array(gen_img.size) == scaling_factor * np.array(lr_img.size)).all()\n",
    "display_images(lr_img, gen_img)"
   ]
  }
 ],
 "metadata": {
  "kernelspec": {
   "display_name": "pytorch",
   "language": "python",
   "name": "python3"
  },
  "language_info": {
   "codemirror_mode": {
    "name": "ipython",
    "version": 3
   },
   "file_extension": ".py",
   "mimetype": "text/x-python",
   "name": "python",
   "nbconvert_exporter": "python",
   "pygments_lexer": "ipython3",
   "version": "3.10.8"
  },
  "orig_nbformat": 4,
  "vscode": {
   "interpreter": {
    "hash": "071f83251836d5bb3918d2af6501aef1a588d685a567aa45f470f25864dd9495"
   }
  }
 },
 "nbformat": 4,
 "nbformat_minor": 2
}
