{
 "cells": [
  {
   "attachments": {},
   "cell_type": "markdown",
   "metadata": {},
   "source": [
    "# Super Resolution"
   ]
  },
  {
   "attachments": {},
   "cell_type": "markdown",
   "metadata": {},
   "source": [
    "This code is the main interface to try our implementation of the super resolution."
   ]
  },
  {
   "cell_type": "code",
   "execution_count": null,
   "metadata": {},
   "outputs": [],
   "source": [
    "from pathlib import Path\n",
    "\n",
    "import numpy as np\n",
    "from PIL import Image\n",
    "from random import randint\n",
    "\n",
    "from environment import DATA_DIR, OUTPUT_DIR\n",
    "from test import sr_test\n",
    "from train import sr_train\n",
    "from utils import display_images"
   ]
  },
  {
   "cell_type": "code",
   "execution_count": null,
   "metadata": {},
   "outputs": [],
   "source": [
    "# Set the testing image\n",
    "img_idx = str(randint(1, 800)).zfill(4)\n",
    "img_path = f\"{DATA_DIR}/{img_idx}.png\"\n",
    "\n",
    "# Load the high resolution image\n",
    "hr_img = Image.open(img_path)"
   ]
  },
  {
   "attachments": {},
   "cell_type": "markdown",
   "metadata": {},
   "source": [
    "## Scaling factor of 4"
   ]
  },
  {
   "attachments": {},
   "cell_type": "markdown",
   "metadata": {},
   "source": [
    "### Without pixel loss"
   ]
  },
  {
   "attachments": {},
   "cell_type": "markdown",
   "metadata": {},
   "source": [
    "#### Trained on 2 epochs"
   ]
  },
  {
   "cell_type": "code",
   "execution_count": null,
   "metadata": {},
   "outputs": [],
   "source": [
    "# Set the parameters\n",
    "name = \"sr_x4_pF_e2\"\n",
    "scaling_factor = 4\n",
    "use_pixel_loss = False\n",
    "num_epochs = 2"
   ]
  },
  {
   "cell_type": "code",
   "execution_count": null,
   "metadata": {},
   "outputs": [],
   "source": [
    "# Train the super resolution model\n",
    "sr_train(name, scaling_factor,\n",
    "         use_pixel_loss=use_pixel_loss,\n",
    "         num_epochs=num_epochs)"
   ]
  },
  {
   "cell_type": "code",
   "execution_count": null,
   "metadata": {},
   "outputs": [],
   "source": [
    "# Test the super resolution model on the testing image\n",
    "lr_img, gen_img = sr_test(name, scaling_factor, img_path)\n",
    "assert (np.array(gen_img.size) == scaling_factor * np.array(lr_img.size)).all()\n",
    "\n",
    "# Save the images\n",
    "output_dir = f\"{OUTPUT_DIR}/{name}/{Path(img_idx).stem}\"\n",
    "Path(output_dir).mkdir(parents=True, exist_ok=True)\n",
    "lr_img.save(f\"{output_dir}/lr_img.jpg\")\n",
    "gen_img.save(f\"{output_dir}/gen_img.jpg\")\n",
    "print(f\"Low resolution and generated images for \\\"{img_idx}\\\" saved\")\n",
    "\n",
    "# Display the images\n",
    "display_images([lr_img, gen_img, hr_img])"
   ]
  },
  {
   "attachments": {},
   "cell_type": "markdown",
   "metadata": {},
   "source": [
    "### With pixel loss"
   ]
  },
  {
   "attachments": {},
   "cell_type": "markdown",
   "metadata": {},
   "source": [
    "#### Trained on 2 epochs"
   ]
  },
  {
   "cell_type": "code",
   "execution_count": null,
   "metadata": {},
   "outputs": [],
   "source": [
    "# Set the parameters\n",
    "name = \"sr_x4_pT_e2\"\n",
    "scaling_factor = 4\n",
    "use_pixel_loss = True\n",
    "num_epochs = 2"
   ]
  },
  {
   "cell_type": "code",
   "execution_count": null,
   "metadata": {},
   "outputs": [],
   "source": [
    "# Train the super resolution model\n",
    "sr_train(name, scaling_factor,\n",
    "         use_pixel_loss=use_pixel_loss,\n",
    "         num_epochs=num_epochs)"
   ]
  },
  {
   "cell_type": "code",
   "execution_count": null,
   "metadata": {},
   "outputs": [],
   "source": [
    "# Test the super resolution model on the testing image\n",
    "lr_img, gen_img = sr_test(name, scaling_factor, img_path)\n",
    "assert (np.array(gen_img.size) == scaling_factor * np.array(lr_img.size)).all()\n",
    "\n",
    "# Save the images\n",
    "output_dir = f\"{OUTPUT_DIR}/{name}/{Path(img_idx).stem}\"\n",
    "Path(output_dir).mkdir(parents=True, exist_ok=True)\n",
    "lr_img.save(f\"{output_dir}/lr_img.jpg\")\n",
    "gen_img.save(f\"{output_dir}/gen_img.jpg\")\n",
    "print(f\"Low resolution and generated images for \\\"{img_idx}\\\" saved\")\n",
    "\n",
    "# Display the images\n",
    "display_images([lr_img, gen_img, hr_img])"
   ]
  },
  {
   "attachments": {},
   "cell_type": "markdown",
   "metadata": {},
   "source": [
    "## Scaling factor of 8"
   ]
  },
  {
   "attachments": {},
   "cell_type": "markdown",
   "metadata": {},
   "source": [
    "### Without pixel loss"
   ]
  },
  {
   "attachments": {},
   "cell_type": "markdown",
   "metadata": {},
   "source": [
    "#### Trained on 2 epochs"
   ]
  },
  {
   "cell_type": "code",
   "execution_count": null,
   "metadata": {},
   "outputs": [],
   "source": [
    "# Set the parameters\n",
    "name = \"sr_x8_pF_e2\"\n",
    "scaling_factor = 8\n",
    "use_pixel_loss = False\n",
    "num_epochs = 2"
   ]
  },
  {
   "cell_type": "code",
   "execution_count": null,
   "metadata": {},
   "outputs": [],
   "source": [
    "# Train the super resolution model\n",
    "sr_train(name, scaling_factor,\n",
    "         use_pixel_loss=use_pixel_loss,\n",
    "         num_epochs=num_epochs)"
   ]
  },
  {
   "cell_type": "code",
   "execution_count": null,
   "metadata": {},
   "outputs": [],
   "source": [
    "# Test the super resolution model on the testing image\n",
    "lr_img, gen_img = sr_test(name, scaling_factor, img_path)\n",
    "assert (np.array(gen_img.size) == scaling_factor * np.array(lr_img.size)).all()\n",
    "\n",
    "# Save the images\n",
    "output_dir = f\"{OUTPUT_DIR}/{name}/{Path(img_idx).stem}\"\n",
    "Path(output_dir).mkdir(parents=True, exist_ok=True)\n",
    "lr_img.save(f\"{output_dir}/lr_img.jpg\")\n",
    "gen_img.save(f\"{output_dir}/gen_img.jpg\")\n",
    "print(f\"Low resolution and generated images for \\\"{img_idx}\\\" saved\")\n",
    "\n",
    "# Display the images\n",
    "display_images([lr_img, gen_img, hr_img])"
   ]
  },
  {
   "attachments": {},
   "cell_type": "markdown",
   "metadata": {},
   "source": [
    "### With pixel loss"
   ]
  },
  {
   "attachments": {},
   "cell_type": "markdown",
   "metadata": {},
   "source": [
    "#### Trained on 2 epochs"
   ]
  },
  {
   "cell_type": "code",
   "execution_count": null,
   "metadata": {},
   "outputs": [],
   "source": [
    "# Set the parameters\n",
    "name = \"sr_x8_pT_e2\"\n",
    "scaling_factor = 8\n",
    "use_pixel_loss = True\n",
    "num_epochs = 2"
   ]
  },
  {
   "cell_type": "code",
   "execution_count": null,
   "metadata": {},
   "outputs": [],
   "source": [
    "# Train the super resolution model\n",
    "sr_train(name, scaling_factor,\n",
    "         use_pixel_loss=use_pixel_loss,\n",
    "         num_epochs=num_epochs)"
   ]
  },
  {
   "cell_type": "code",
   "execution_count": null,
   "metadata": {},
   "outputs": [],
   "source": [
    "# Test the super resolution model on the testing image\n",
    "lr_img, gen_img = sr_test(name, scaling_factor, img_path)\n",
    "assert (np.array(gen_img.size) == scaling_factor * np.array(lr_img.size)).all()\n",
    "\n",
    "# Save the images\n",
    "output_dir = f\"{OUTPUT_DIR}/{name}/{Path(img_idx).stem}\"\n",
    "Path(output_dir).mkdir(parents=True, exist_ok=True)\n",
    "lr_img.save(f\"{output_dir}/lr_img.jpg\")\n",
    "gen_img.save(f\"{output_dir}/gen_img.jpg\")\n",
    "print(f\"Low resolution and generated images for \\\"{img_idx}\\\" saved\")\n",
    "\n",
    "# Display the images\n",
    "display_images([lr_img, gen_img, hr_img])"
   ]
  }
 ],
 "metadata": {
  "kernelspec": {
   "display_name": "rtx_3060",
   "language": "python",
   "name": "python3"
  },
  "language_info": {
   "codemirror_mode": {
    "name": "ipython",
    "version": 3
   },
   "file_extension": ".py",
   "mimetype": "text/x-python",
   "name": "python",
   "nbconvert_exporter": "python",
   "pygments_lexer": "ipython3",
   "version": "3.7.3"
  },
  "orig_nbformat": 4,
  "vscode": {
   "interpreter": {
    "hash": "15a89ff22da7e183987cc1fdd0fe8b96de1e7ba186e11f61e67a28366fd85d93"
   }
  }
 },
 "nbformat": 4,
 "nbformat_minor": 2
}
